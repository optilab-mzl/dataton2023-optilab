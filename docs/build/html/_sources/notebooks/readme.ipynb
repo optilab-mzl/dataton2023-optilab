
{
 "cells": [
   {
   "cell_type": "markdown",
   "id": "0",
   "metadata": {},
   "source": [
    "# dataton2023-optilab"
   ]
  }
 ],
 "metadata": {},
 "nbformat": 4,
 "nbformat_minor": 5
}
